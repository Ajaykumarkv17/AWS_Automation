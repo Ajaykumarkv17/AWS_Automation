{
 "cells": [
  {
   "cell_type": "code",
   "execution_count": 11,
   "metadata": {},
   "outputs": [],
   "source": [
    "from anthropic import Anthropic\n",
    "\n",
    "\n",
    "client = Anthropic(api_key=\"\")\n",
    "\n"
   ]
  },
  {
   "cell_type": "code",
   "execution_count": 2,
   "metadata": {},
   "outputs": [],
   "source": [
    "tool_definition = [\n",
    "    {\n",
    "        \"name\": \"create_ec2_instance\",\n",
    "        \"description\": \"Creates an EC2 instance with the specified parameter\",\n",
    "        \"input_schema\": {\n",
    "            \"type\": \"object\",\n",
    "            \"properties\": {\n",
    "                \"instance_type\": {\n",
    "                    \"type\": \"string\",\n",
    "                    \"description\": \"The instance type, e.g., t2.micro, m5.large, etc.\"\n",
    "                },\n",
    "                \"ami_id\": {\n",
    "                    \"type\": \"string\",\n",
    "                    \"description\": \"The AMI ID to use for the instance\"\n",
    "                },\n",
    "                \"min_count\": {\n",
    "                    \"type\": \"integer\",\n",
    "                    \"description\": \"The minimum number of instances to launch\"\n",
    "                },\n",
    "                \"max_count\": {\n",
    "                    \"type\": \"integer\",\n",
    "                    \"description\": \"The maximum number of instances to launch\"\n",
    "                },\n",
    "            },\n",
    "            \"required\": [\"instance_type\", \"ami_id\", \"min_count\", \"max_count\"]\n",
    "        }\n",
    "    }\n",
    "]\n",
    "\n",
    "def get_claude_response(prompt):\n",
    "    response = client.messages.create(\n",
    "        model=\"claude-3-sonnet-20240229\",\n",
    "        max_tokens=1000,\n",
    "        temperature=0,\n",
    "        system=\"You are an AI assistant that helps to create EC2 instances. Extract the necessary parameters from the user's input and use the create_ec2_instance tool to create the instance.\",\n",
    "        messages=[\n",
    "            {\"role\": \"user\", \"content\": prompt}\n",
    "        ],\n",
    "        tools=tool_definition\n",
    "    )\n",
    "    return response\n",
    "\n",
    "\n",
    "\n",
    "\n"
   ]
  },
  {
   "cell_type": "code",
   "execution_count": 1,
   "metadata": {},
   "outputs": [],
   "source": [
    "import boto3\n",
    "\n",
    "def create_ec2_instance(instance_type, ami_id, min_count, max_count):\n",
    "    session = boto3.Session(\n",
    "        aws_access_key_id='',\n",
    "        aws_secret_access_key='',\n",
    "        region_name='us-east-1'\n",
    "    )\n",
    "\n",
    "    # Get the EC2 resource\n",
    "    ec2 = session.resource('ec2')\n",
    "    instance = ec2.create_instances(\n",
    "        ImageId=ami_id,  # Replace with your desired AMI ID\n",
    "        MinCount=1,\n",
    "        MaxCount=1,\n",
    "        InstanceType=instance_type,  # Replace with your desired instance type\n",
    "      \n",
    "    )\n",
    "    print(\"created instance\")\n",
    "    \n",
    "\n",
    "\n"
   ]
  },
  {
   "cell_type": "code",
   "execution_count": 5,
   "metadata": {},
   "outputs": [
    {
     "name": "stdout",
     "output_type": "stream",
     "text": [
      "calling tool\n",
      "{'instance_type': 't2.micro', 'ami_id': 'ami-0427090fd1714168b', 'min_count': 1, 'max_count': 1}\n",
      "created instance\n"
     ]
    }
   ],
   "source": [
    "prompt = \"Create an EC2 instance with the instance type t2.micro and the AMI ID ami-0427090fd1714168b. Launch a minimum of 1 instance and a maximum of 1 instance.\"\n",
    "response = get_claude_response(prompt)\n",
    "if response.stop_reason == 'tool_use':\n",
    "        print(\"calling tool\")\n",
    "        print(response.content[0].input)\n",
    "        create_ec2_instance(response.content[0].input['instance_type'], response.content[0].input['ami_id'], response.content[0].input['min_count'], response.content[0].input['max_count'])\n",
    "        \n",
    "        "
   ]
  },
  {
   "cell_type": "code",
   "execution_count": 7,
   "metadata": {},
   "outputs": [
    {
     "data": {
      "text/plain": [
       "[ToolUseBlock(id='toolu_01Ja5FMno4gKfne7SdSJkcnz', input={'instance_type': 't2.micro', 'ami_id': 'ami-0427090fd1714168b', 'min_count': 1, 'max_count': 1}, name='create_ec2_instance', type='tool_use')]"
      ]
     },
     "execution_count": 7,
     "metadata": {},
     "output_type": "execute_result"
    }
   ],
   "source": [
    "response.content"
   ]
  },
  {
   "cell_type": "code",
   "execution_count": 9,
   "metadata": {},
   "outputs": [],
   "source": [
    "final_response = client.messages.create(\n",
    "                model=\"claude-3-haiku-20240307\",\n",
    "                max_tokens=1000,\n",
    "                temperature=0,\n",
    "                system=\"You are an AI assistant that helps create EC2 instances. Summarize the result of the EC2 instance creation.\",\n",
    "                messages=[\n",
    "                    {\"role\": \"user\", \"content\": prompt},\n",
    "                    {\"role\": \"assistant\", \"content\": \"d\"},\n",
    "                    {\"role\": \"user\", \"content\":  \"s\"}\n",
    "                ]\n",
    "            )"
   ]
  },
  {
   "cell_type": "code",
   "execution_count": 10,
   "metadata": {},
   "outputs": [
    {
     "data": {
      "text/plain": [
       "Message(id='msg_014yHyr5HiD4qgdqVm4nRAoH', content=[TextBlock(text='Here is a summary of the EC2 instance creation:\\n\\n- Instance Type: t2.micro\\n- AMI ID: ami-0427090fd1714168b\\n- Minimum Instances: 1\\n- Maximum Instances: 1\\n\\nThe EC2 instance was successfully created with the specified configuration. The new instance is now running and ready for use.', type='text')], model='claude-3-haiku-20240307', role='assistant', stop_reason='end_turn', stop_sequence=None, type='message', usage=Usage(input_tokens=88, output_tokens=82))"
      ]
     },
     "execution_count": 10,
     "metadata": {},
     "output_type": "execute_result"
    }
   ],
   "source": [
    "final_response"
   ]
  },
  {
   "cell_type": "code",
   "execution_count": null,
   "metadata": {},
   "outputs": [],
   "source": []
  }
 ],
 "metadata": {
  "kernelspec": {
   "display_name": "Python 3",
   "language": "python",
   "name": "python3"
  },
  "language_info": {
   "codemirror_mode": {
    "name": "ipython",
    "version": 3
   },
   "file_extension": ".py",
   "mimetype": "text/x-python",
   "name": "python",
   "nbconvert_exporter": "python",
   "pygments_lexer": "ipython3",
   "version": "3.10.13"
  }
 },
 "nbformat": 4,
 "nbformat_minor": 2
}
